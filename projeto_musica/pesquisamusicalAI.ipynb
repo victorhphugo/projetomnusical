{
  "cells": [
    {
      "cell_type": "markdown",
      "metadata": {
        "colab_type": "text",
        "id": "view-in-github"
      },
      "source": [
        "<a href=\"https://colab.research.google.com/github/LeoSousaJesus/Pesquisa-Estilo-Musical-Turmas-Senai/blob/main/pesquisamusicalAI.ipynb\" target=\"_parent\"><img src=\"https://colab.research.google.com/assets/colab-badge.svg\" alt=\"Open In Colab\"/></a>"
      ]
    },
    {
      "cell_type": "markdown",
      "metadata": {
        "id": "RiIaZAqXfPgJ"
      },
      "source": [
        "  # Grupo 3 - Jéssica, Guilherme, Natanael, Wellington, Victor e Leandro (Turma do Professor Charleson - Novo Ensino Médio - Redes)\n",
        "  \n",
        "  ## Pesquisa de Campo: Estilos Musicais - Curso Python Developer\n",
        "\n",
        "- Pesquisa dos alunos do curso Developer Python do SENAI, organizada pelo professor Rômulo, para identificar os estilos musicais favoritos das turmas e criar um DataSet, com objetivo de coletar dados sobre a preferência musical dos estudantes.<br><br>\n",
        "\n",
        "- A pesquisa foi realizada através de um questionário, onde os participantes puderam escolher seus estilos preferidos, entre: Rock, Rap, MPB, Reggae, Funk, Sertanejo, Gospel, Eletrônica, Samba, Forró e Trap. Os dados coletados foram organizados e analisados, possibilitando a criação de gráficos para uma melhor visualização dos resultados.<br><br>\n",
        "\n",
        "- A atividade prática permitiu aplicar os conhecimentos adquiridos no curso sobre manipulação de dadosutilizando Pandase e a linguagem Python para processar e apresentar as informações de forma clara e objetiva. Além disso, a pesquisa promoveu a interação entre os estudantes e proporcionou uma compreensão mais ampla das ferramentas de análise de dados no contexto de preferências culturais.<br><br>\n",
        "\n",
        "- Após a apresentação dos resultados com DataFrame no Pandas, o estilo vencedor na turma pesquisada, terá uma música personalizada, com as palavras chaves inseridas pelos alunos, criada por IA utilizando o Suno AI, um software de Inteligência Artificial voltado para criação de músicas, encerrando a atividade de maneira inovadora e criativa.\n",
        "\n"
      ]
    },
    {
      "cell_type": "markdown",
      "metadata": {
        "id": "vxS6ha0t1-Ik"
      },
      "source": [
        "### Importando as bibliotecas necessárias"
      ]
    },
    {
      "cell_type": "code",
      "execution_count": 56,
      "metadata": {},
      "outputs": [],
      "source": [
        "import pandas as pd"
      ]
    },
    {
      "cell_type": "code",
      "execution_count": 57,
      "metadata": {},
      "outputs": [],
      "source": [
        "import numpy as np"
      ]
    },
    {
      "cell_type": "markdown",
      "metadata": {},
      "source": []
    },
    {
      "cell_type": "code",
      "execution_count": 58,
      "metadata": {
        "id": "rjday8upJcJ2"
      },
      "outputs": [],
      "source": [
        "\n",
        "import matplotlib.pyplot as plt\n",
        "import seaborn as sns\n",
        "import numpy as np"
      ]
    },
    {
      "cell_type": "markdown",
      "metadata": {
        "id": "QZzThBls2aA1"
      },
      "source": [
        "### Comando para fazer o upload de arquivos"
      ]
    },
    {
      "cell_type": "code",
      "execution_count": 59,
      "metadata": {
        "colab": {
          "base_uri": "https://localhost:8080/",
          "height": 73
        },
        "id": "RBK4dlGZzvB8",
        "outputId": "71eb99ab-a06f-40e8-87d2-ff13c17ae9c3"
      },
      "outputs": [
        {
          "ename": "ModuleNotFoundError",
          "evalue": "No module named 'google'",
          "output_type": "error",
          "traceback": [
            "\u001b[1;31m---------------------------------------------------------------------------\u001b[0m",
            "\u001b[1;31mModuleNotFoundError\u001b[0m                       Traceback (most recent call last)",
            "Cell \u001b[1;32mIn[59], line 1\u001b[0m\n\u001b[1;32m----> 1\u001b[0m \u001b[38;5;28;01mfrom\u001b[39;00m \u001b[38;5;21;01mgoogle\u001b[39;00m\u001b[38;5;21;01m.\u001b[39;00m\u001b[38;5;21;01mcolab\u001b[39;00m \u001b[38;5;28;01mimport\u001b[39;00m files\n\u001b[0;32m      4\u001b[0m uploaded \u001b[38;5;241m=\u001b[39m files\u001b[38;5;241m.\u001b[39mupload()\n",
            "\u001b[1;31mModuleNotFoundError\u001b[0m: No module named 'google'"
          ]
        }
      ],
      "source": [
        "from google.colab import files\n",
        "\n",
        "\n",
        "uploaded = files.upload()"
      ]
    },
    {
      "cell_type": "markdown",
      "metadata": {
        "id": "eIWu3GM31xAK"
      },
      "source": [
        "### Importando o DataSet"
      ]
    },
    {
      "cell_type": "code",
      "execution_count": 61,
      "metadata": {
        "id": "UIn-jhDk0vhE"
      },
      "outputs": [],
      "source": [
        "df = pd.read_csv('dataset/pesquisa.csv')"
      ]
    },
    {
      "cell_type": "markdown",
      "metadata": {
        "id": "1vXogSZM25zy"
      },
      "source": [
        "### Mostrando os 5 primeiros"
      ]
    },
    {
      "cell_type": "code",
      "execution_count": 62,
      "metadata": {
        "colab": {
          "base_uri": "https://localhost:8080/",
          "height": 379
        },
        "id": "PpMRt2Ym09Fl",
        "outputId": "98c2e28b-256c-4ea1-be38-551efefa07f4"
      },
      "outputs": [
        {
          "data": {
            "text/html": [
              "<div>\n",
              "<style scoped>\n",
              "    .dataframe tbody tr th:only-of-type {\n",
              "        vertical-align: middle;\n",
              "    }\n",
              "\n",
              "    .dataframe tbody tr th {\n",
              "        vertical-align: top;\n",
              "    }\n",
              "\n",
              "    .dataframe thead th {\n",
              "        text-align: right;\n",
              "    }\n",
              "</style>\n",
              "<table border=\"1\" class=\"dataframe\">\n",
              "  <thead>\n",
              "    <tr style=\"text-align: right;\">\n",
              "      <th></th>\n",
              "      <th>Carimbo de data/hora</th>\n",
              "      <th>Avalie os estilos musicais [rock]</th>\n",
              "      <th>Avalie os estilos musicais [rap]</th>\n",
              "      <th>Avalie os estilos musicais [mpb]</th>\n",
              "      <th>Avalie os estilos musicais [reggae]</th>\n",
              "      <th>Avalie os estilos musicais [funk]</th>\n",
              "      <th>Avalie os estilos musicais [sertanejo]</th>\n",
              "      <th>Avalie os estilos musicais [gospel]</th>\n",
              "      <th>Avalie os estilos musicais [eletrônica]</th>\n",
              "      <th>Qual professor</th>\n",
              "      <th>Qual sua faixa etária</th>\n",
              "      <th>Avalie os estilos musicais [samba]</th>\n",
              "      <th>Avalie os estilos musicais [forró]</th>\n",
              "      <th>Avalie os estilos musicais [trap]</th>\n",
              "      <th>Digite uma palavra-chave do seu curso que pode ser incluída na música gerada por inteligência artificial?</th>\n",
              "    </tr>\n",
              "  </thead>\n",
              "  <tbody>\n",
              "    <tr>\n",
              "      <th>0</th>\n",
              "      <td>21/08/2024 10:03:25</td>\n",
              "      <td>3</td>\n",
              "      <td>1</td>\n",
              "      <td>1</td>\n",
              "      <td>1</td>\n",
              "      <td>1</td>\n",
              "      <td>1</td>\n",
              "      <td>1</td>\n",
              "      <td>3</td>\n",
              "      <td>NaN</td>\n",
              "      <td>NaN</td>\n",
              "      <td>NaN</td>\n",
              "      <td>NaN</td>\n",
              "      <td>NaN</td>\n",
              "      <td>NaN</td>\n",
              "    </tr>\n",
              "    <tr>\n",
              "      <th>1</th>\n",
              "      <td>21/08/2024 10:04:39</td>\n",
              "      <td>5</td>\n",
              "      <td>3</td>\n",
              "      <td>5</td>\n",
              "      <td>2</td>\n",
              "      <td>1</td>\n",
              "      <td>3</td>\n",
              "      <td>1</td>\n",
              "      <td>5</td>\n",
              "      <td>NaN</td>\n",
              "      <td>NaN</td>\n",
              "      <td>NaN</td>\n",
              "      <td>NaN</td>\n",
              "      <td>NaN</td>\n",
              "      <td>NaN</td>\n",
              "    </tr>\n",
              "    <tr>\n",
              "      <th>2</th>\n",
              "      <td>21/08/2024 10:04:52</td>\n",
              "      <td>1</td>\n",
              "      <td>5</td>\n",
              "      <td>1</td>\n",
              "      <td>1</td>\n",
              "      <td>1</td>\n",
              "      <td>1</td>\n",
              "      <td>1</td>\n",
              "      <td>5</td>\n",
              "      <td>NaN</td>\n",
              "      <td>NaN</td>\n",
              "      <td>NaN</td>\n",
              "      <td>NaN</td>\n",
              "      <td>NaN</td>\n",
              "      <td>NaN</td>\n",
              "    </tr>\n",
              "    <tr>\n",
              "      <th>3</th>\n",
              "      <td>21/08/2024 10:04:53</td>\n",
              "      <td>1</td>\n",
              "      <td>5</td>\n",
              "      <td>4</td>\n",
              "      <td>4</td>\n",
              "      <td>4</td>\n",
              "      <td>1</td>\n",
              "      <td>1</td>\n",
              "      <td>5</td>\n",
              "      <td>NaN</td>\n",
              "      <td>NaN</td>\n",
              "      <td>NaN</td>\n",
              "      <td>NaN</td>\n",
              "      <td>NaN</td>\n",
              "      <td>NaN</td>\n",
              "    </tr>\n",
              "    <tr>\n",
              "      <th>4</th>\n",
              "      <td>21/08/2024 10:04:55</td>\n",
              "      <td>5</td>\n",
              "      <td>4</td>\n",
              "      <td>3</td>\n",
              "      <td>4</td>\n",
              "      <td>1</td>\n",
              "      <td>1</td>\n",
              "      <td>2</td>\n",
              "      <td>5</td>\n",
              "      <td>NaN</td>\n",
              "      <td>NaN</td>\n",
              "      <td>NaN</td>\n",
              "      <td>NaN</td>\n",
              "      <td>NaN</td>\n",
              "      <td>NaN</td>\n",
              "    </tr>\n",
              "  </tbody>\n",
              "</table>\n",
              "</div>"
            ],
            "text/plain": [
              "  Carimbo de data/hora  Avalie os estilos musicais [rock]  \\\n",
              "0  21/08/2024 10:03:25                                  3   \n",
              "1  21/08/2024 10:04:39                                  5   \n",
              "2  21/08/2024 10:04:52                                  1   \n",
              "3  21/08/2024 10:04:53                                  1   \n",
              "4  21/08/2024 10:04:55                                  5   \n",
              "\n",
              "   Avalie os estilos musicais [rap]  Avalie os estilos musicais [mpb]  \\\n",
              "0                                 1                                 1   \n",
              "1                                 3                                 5   \n",
              "2                                 5                                 1   \n",
              "3                                 5                                 4   \n",
              "4                                 4                                 3   \n",
              "\n",
              "   Avalie os estilos musicais [reggae]  Avalie os estilos musicais [funk]  \\\n",
              "0                                    1                                  1   \n",
              "1                                    2                                  1   \n",
              "2                                    1                                  1   \n",
              "3                                    4                                  4   \n",
              "4                                    4                                  1   \n",
              "\n",
              "   Avalie os estilos musicais [sertanejo]  \\\n",
              "0                                       1   \n",
              "1                                       3   \n",
              "2                                       1   \n",
              "3                                       1   \n",
              "4                                       1   \n",
              "\n",
              "   Avalie os estilos musicais [gospel]  \\\n",
              "0                                    1   \n",
              "1                                    1   \n",
              "2                                    1   \n",
              "3                                    1   \n",
              "4                                    2   \n",
              "\n",
              "   Avalie os estilos musicais [eletrônica] Qual professor  \\\n",
              "0                                        3            NaN   \n",
              "1                                        5            NaN   \n",
              "2                                        5            NaN   \n",
              "3                                        5            NaN   \n",
              "4                                        5            NaN   \n",
              "\n",
              "  Qual sua faixa etária  Avalie os estilos musicais [samba]  \\\n",
              "0                   NaN                                 NaN   \n",
              "1                   NaN                                 NaN   \n",
              "2                   NaN                                 NaN   \n",
              "3                   NaN                                 NaN   \n",
              "4                   NaN                                 NaN   \n",
              "\n",
              "   Avalie os estilos musicais [forró]  Avalie os estilos musicais [trap]  \\\n",
              "0                                 NaN                                NaN   \n",
              "1                                 NaN                                NaN   \n",
              "2                                 NaN                                NaN   \n",
              "3                                 NaN                                NaN   \n",
              "4                                 NaN                                NaN   \n",
              "\n",
              "  Digite uma palavra-chave do seu curso que pode ser incluída na música gerada por inteligência artificial?  \n",
              "0                                                NaN                                                         \n",
              "1                                                NaN                                                         \n",
              "2                                                NaN                                                         \n",
              "3                                                NaN                                                         \n",
              "4                                                NaN                                                         "
            ]
          },
          "execution_count": 62,
          "metadata": {},
          "output_type": "execute_result"
        }
      ],
      "source": [
        "df.head()"
      ]
    },
    {
      "cell_type": "code",
      "execution_count": 63,
      "metadata": {
        "colab": {
          "base_uri": "https://localhost:8080/",
          "height": 379
        },
        "id": "QqmQlu2z9bd0",
        "outputId": "b68bb3d2-070c-4d30-aff4-066e9562db62"
      },
      "outputs": [
        {
          "data": {
            "text/html": [
              "<div>\n",
              "<style scoped>\n",
              "    .dataframe tbody tr th:only-of-type {\n",
              "        vertical-align: middle;\n",
              "    }\n",
              "\n",
              "    .dataframe tbody tr th {\n",
              "        vertical-align: top;\n",
              "    }\n",
              "\n",
              "    .dataframe thead th {\n",
              "        text-align: right;\n",
              "    }\n",
              "</style>\n",
              "<table border=\"1\" class=\"dataframe\">\n",
              "  <thead>\n",
              "    <tr style=\"text-align: right;\">\n",
              "      <th></th>\n",
              "      <th>Carimbo de data/hora</th>\n",
              "      <th>Avalie os estilos musicais [rock]</th>\n",
              "      <th>Avalie os estilos musicais [rap]</th>\n",
              "      <th>Avalie os estilos musicais [mpb]</th>\n",
              "      <th>Avalie os estilos musicais [reggae]</th>\n",
              "      <th>Avalie os estilos musicais [funk]</th>\n",
              "      <th>Avalie os estilos musicais [sertanejo]</th>\n",
              "      <th>Avalie os estilos musicais [gospel]</th>\n",
              "      <th>Avalie os estilos musicais [eletrônica]</th>\n",
              "      <th>Qual professor</th>\n",
              "      <th>Qual sua faixa etária</th>\n",
              "      <th>Avalie os estilos musicais [samba]</th>\n",
              "      <th>Avalie os estilos musicais [forró]</th>\n",
              "      <th>Avalie os estilos musicais [trap]</th>\n",
              "      <th>Digite uma palavra-chave do seu curso que pode ser incluída na música gerada por inteligência artificial?</th>\n",
              "    </tr>\n",
              "  </thead>\n",
              "  <tbody>\n",
              "    <tr>\n",
              "      <th>142</th>\n",
              "      <td>22/08/2024 16:47:00</td>\n",
              "      <td>3</td>\n",
              "      <td>1</td>\n",
              "      <td>2</td>\n",
              "      <td>2</td>\n",
              "      <td>1</td>\n",
              "      <td>4</td>\n",
              "      <td>3</td>\n",
              "      <td>4</td>\n",
              "      <td>Alisson</td>\n",
              "      <td>15 - 18</td>\n",
              "      <td>3.0</td>\n",
              "      <td>1.0</td>\n",
              "      <td>5.0</td>\n",
              "      <td>Cloud</td>\n",
              "    </tr>\n",
              "    <tr>\n",
              "      <th>143</th>\n",
              "      <td>22/08/2024 16:48:04</td>\n",
              "      <td>1</td>\n",
              "      <td>1</td>\n",
              "      <td>1</td>\n",
              "      <td>1</td>\n",
              "      <td>1</td>\n",
              "      <td>1</td>\n",
              "      <td>4</td>\n",
              "      <td>1</td>\n",
              "      <td>Alisson</td>\n",
              "      <td>51 - 80</td>\n",
              "      <td>4.0</td>\n",
              "      <td>4.0</td>\n",
              "      <td>1.0</td>\n",
              "      <td>Informática</td>\n",
              "    </tr>\n",
              "    <tr>\n",
              "      <th>144</th>\n",
              "      <td>22/08/2024 16:51:25</td>\n",
              "      <td>4</td>\n",
              "      <td>3</td>\n",
              "      <td>1</td>\n",
              "      <td>1</td>\n",
              "      <td>4</td>\n",
              "      <td>3</td>\n",
              "      <td>4</td>\n",
              "      <td>4</td>\n",
              "      <td>Charlerson</td>\n",
              "      <td>15 - 18</td>\n",
              "      <td>3.0</td>\n",
              "      <td>3.0</td>\n",
              "      <td>3.0</td>\n",
              "      <td>Programa</td>\n",
              "    </tr>\n",
              "    <tr>\n",
              "      <th>145</th>\n",
              "      <td>22/08/2024 16:52:02</td>\n",
              "      <td>4</td>\n",
              "      <td>3</td>\n",
              "      <td>4</td>\n",
              "      <td>3</td>\n",
              "      <td>1</td>\n",
              "      <td>2</td>\n",
              "      <td>1</td>\n",
              "      <td>4</td>\n",
              "      <td>Charlerson</td>\n",
              "      <td>15 - 18</td>\n",
              "      <td>2.0</td>\n",
              "      <td>3.0</td>\n",
              "      <td>4.0</td>\n",
              "      <td>Programação</td>\n",
              "    </tr>\n",
              "    <tr>\n",
              "      <th>146</th>\n",
              "      <td>22/08/2024 17:00:29</td>\n",
              "      <td>4</td>\n",
              "      <td>3</td>\n",
              "      <td>4</td>\n",
              "      <td>2</td>\n",
              "      <td>2</td>\n",
              "      <td>3</td>\n",
              "      <td>5</td>\n",
              "      <td>5</td>\n",
              "      <td>Charlerson</td>\n",
              "      <td>15 - 18</td>\n",
              "      <td>4.0</td>\n",
              "      <td>3.0</td>\n",
              "      <td>4.0</td>\n",
              "      <td>Redes</td>\n",
              "    </tr>\n",
              "  </tbody>\n",
              "</table>\n",
              "</div>"
            ],
            "text/plain": [
              "    Carimbo de data/hora  Avalie os estilos musicais [rock]  \\\n",
              "142  22/08/2024 16:47:00                                  3   \n",
              "143  22/08/2024 16:48:04                                  1   \n",
              "144  22/08/2024 16:51:25                                  4   \n",
              "145  22/08/2024 16:52:02                                  4   \n",
              "146  22/08/2024 17:00:29                                  4   \n",
              "\n",
              "     Avalie os estilos musicais [rap]  Avalie os estilos musicais [mpb]  \\\n",
              "142                                 1                                 2   \n",
              "143                                 1                                 1   \n",
              "144                                 3                                 1   \n",
              "145                                 3                                 4   \n",
              "146                                 3                                 4   \n",
              "\n",
              "     Avalie os estilos musicais [reggae]  Avalie os estilos musicais [funk]  \\\n",
              "142                                    2                                  1   \n",
              "143                                    1                                  1   \n",
              "144                                    1                                  4   \n",
              "145                                    3                                  1   \n",
              "146                                    2                                  2   \n",
              "\n",
              "     Avalie os estilos musicais [sertanejo]  \\\n",
              "142                                       4   \n",
              "143                                       1   \n",
              "144                                       3   \n",
              "145                                       2   \n",
              "146                                       3   \n",
              "\n",
              "     Avalie os estilos musicais [gospel]  \\\n",
              "142                                    3   \n",
              "143                                    4   \n",
              "144                                    4   \n",
              "145                                    1   \n",
              "146                                    5   \n",
              "\n",
              "     Avalie os estilos musicais [eletrônica] Qual professor  \\\n",
              "142                                        4        Alisson   \n",
              "143                                        1        Alisson   \n",
              "144                                        4     Charlerson   \n",
              "145                                        4     Charlerson   \n",
              "146                                        5     Charlerson   \n",
              "\n",
              "    Qual sua faixa etária  Avalie os estilos musicais [samba]  \\\n",
              "142               15 - 18                                 3.0   \n",
              "143               51 - 80                                 4.0   \n",
              "144               15 - 18                                 3.0   \n",
              "145               15 - 18                                 2.0   \n",
              "146               15 - 18                                 4.0   \n",
              "\n",
              "     Avalie os estilos musicais [forró]  Avalie os estilos musicais [trap]  \\\n",
              "142                                 1.0                                5.0   \n",
              "143                                 4.0                                1.0   \n",
              "144                                 3.0                                3.0   \n",
              "145                                 3.0                                4.0   \n",
              "146                                 3.0                                4.0   \n",
              "\n",
              "    Digite uma palavra-chave do seu curso que pode ser incluída na música gerada por inteligência artificial?  \n",
              "142                                              Cloud                                                         \n",
              "143                                       Informática                                                          \n",
              "144                                           Programa                                                         \n",
              "145                                       Programação                                                          \n",
              "146                                              Redes                                                         "
            ]
          },
          "execution_count": 63,
          "metadata": {},
          "output_type": "execute_result"
        }
      ],
      "source": [
        "df.tail()"
      ]
    },
    {
      "cell_type": "markdown",
      "metadata": {
        "id": "gU370uxQ1oAa"
      },
      "source": [
        "### Renomeando as Colunas"
      ]
    },
    {
      "cell_type": "code",
      "execution_count": 64,
      "metadata": {
        "id": "VtJCPexx1DI2"
      },
      "outputs": [],
      "source": [
        "df.columns = ['data_hora','rock','rap','mpb','reggae','funk','sertanejo','gospel','eletronica','professor','faixa_etaria','samba','forro','trap','palavra_chave']"
      ]
    },
    {
      "cell_type": "markdown",
      "metadata": {
        "id": "vH5JbJY_X2h_"
      },
      "source": [
        "### Dataframe renomeado"
      ]
    },
    {
      "cell_type": "code",
      "execution_count": 65,
      "metadata": {
        "colab": {
          "base_uri": "https://localhost:8080/",
          "height": 423
        },
        "id": "zXDkK0cq3QfT",
        "outputId": "54b97041-091c-46df-fdb6-85699268bbfa"
      },
      "outputs": [
        {
          "data": {
            "text/html": [
              "<div>\n",
              "<style scoped>\n",
              "    .dataframe tbody tr th:only-of-type {\n",
              "        vertical-align: middle;\n",
              "    }\n",
              "\n",
              "    .dataframe tbody tr th {\n",
              "        vertical-align: top;\n",
              "    }\n",
              "\n",
              "    .dataframe thead th {\n",
              "        text-align: right;\n",
              "    }\n",
              "</style>\n",
              "<table border=\"1\" class=\"dataframe\">\n",
              "  <thead>\n",
              "    <tr style=\"text-align: right;\">\n",
              "      <th></th>\n",
              "      <th>data_hora</th>\n",
              "      <th>rock</th>\n",
              "      <th>rap</th>\n",
              "      <th>mpb</th>\n",
              "      <th>reggae</th>\n",
              "      <th>funk</th>\n",
              "      <th>sertanejo</th>\n",
              "      <th>gospel</th>\n",
              "      <th>eletronica</th>\n",
              "      <th>professor</th>\n",
              "      <th>faixa_etaria</th>\n",
              "      <th>samba</th>\n",
              "      <th>forro</th>\n",
              "      <th>trap</th>\n",
              "      <th>palavra_chave</th>\n",
              "    </tr>\n",
              "  </thead>\n",
              "  <tbody>\n",
              "    <tr>\n",
              "      <th>0</th>\n",
              "      <td>21/08/2024 10:03:25</td>\n",
              "      <td>3</td>\n",
              "      <td>1</td>\n",
              "      <td>1</td>\n",
              "      <td>1</td>\n",
              "      <td>1</td>\n",
              "      <td>1</td>\n",
              "      <td>1</td>\n",
              "      <td>3</td>\n",
              "      <td>NaN</td>\n",
              "      <td>NaN</td>\n",
              "      <td>NaN</td>\n",
              "      <td>NaN</td>\n",
              "      <td>NaN</td>\n",
              "      <td>NaN</td>\n",
              "    </tr>\n",
              "    <tr>\n",
              "      <th>1</th>\n",
              "      <td>21/08/2024 10:04:39</td>\n",
              "      <td>5</td>\n",
              "      <td>3</td>\n",
              "      <td>5</td>\n",
              "      <td>2</td>\n",
              "      <td>1</td>\n",
              "      <td>3</td>\n",
              "      <td>1</td>\n",
              "      <td>5</td>\n",
              "      <td>NaN</td>\n",
              "      <td>NaN</td>\n",
              "      <td>NaN</td>\n",
              "      <td>NaN</td>\n",
              "      <td>NaN</td>\n",
              "      <td>NaN</td>\n",
              "    </tr>\n",
              "    <tr>\n",
              "      <th>2</th>\n",
              "      <td>21/08/2024 10:04:52</td>\n",
              "      <td>1</td>\n",
              "      <td>5</td>\n",
              "      <td>1</td>\n",
              "      <td>1</td>\n",
              "      <td>1</td>\n",
              "      <td>1</td>\n",
              "      <td>1</td>\n",
              "      <td>5</td>\n",
              "      <td>NaN</td>\n",
              "      <td>NaN</td>\n",
              "      <td>NaN</td>\n",
              "      <td>NaN</td>\n",
              "      <td>NaN</td>\n",
              "      <td>NaN</td>\n",
              "    </tr>\n",
              "    <tr>\n",
              "      <th>3</th>\n",
              "      <td>21/08/2024 10:04:53</td>\n",
              "      <td>1</td>\n",
              "      <td>5</td>\n",
              "      <td>4</td>\n",
              "      <td>4</td>\n",
              "      <td>4</td>\n",
              "      <td>1</td>\n",
              "      <td>1</td>\n",
              "      <td>5</td>\n",
              "      <td>NaN</td>\n",
              "      <td>NaN</td>\n",
              "      <td>NaN</td>\n",
              "      <td>NaN</td>\n",
              "      <td>NaN</td>\n",
              "      <td>NaN</td>\n",
              "    </tr>\n",
              "    <tr>\n",
              "      <th>4</th>\n",
              "      <td>21/08/2024 10:04:55</td>\n",
              "      <td>5</td>\n",
              "      <td>4</td>\n",
              "      <td>3</td>\n",
              "      <td>4</td>\n",
              "      <td>1</td>\n",
              "      <td>1</td>\n",
              "      <td>2</td>\n",
              "      <td>5</td>\n",
              "      <td>NaN</td>\n",
              "      <td>NaN</td>\n",
              "      <td>NaN</td>\n",
              "      <td>NaN</td>\n",
              "      <td>NaN</td>\n",
              "      <td>NaN</td>\n",
              "    </tr>\n",
              "    <tr>\n",
              "      <th>...</th>\n",
              "      <td>...</td>\n",
              "      <td>...</td>\n",
              "      <td>...</td>\n",
              "      <td>...</td>\n",
              "      <td>...</td>\n",
              "      <td>...</td>\n",
              "      <td>...</td>\n",
              "      <td>...</td>\n",
              "      <td>...</td>\n",
              "      <td>...</td>\n",
              "      <td>...</td>\n",
              "      <td>...</td>\n",
              "      <td>...</td>\n",
              "      <td>...</td>\n",
              "      <td>...</td>\n",
              "    </tr>\n",
              "    <tr>\n",
              "      <th>142</th>\n",
              "      <td>22/08/2024 16:47:00</td>\n",
              "      <td>3</td>\n",
              "      <td>1</td>\n",
              "      <td>2</td>\n",
              "      <td>2</td>\n",
              "      <td>1</td>\n",
              "      <td>4</td>\n",
              "      <td>3</td>\n",
              "      <td>4</td>\n",
              "      <td>Alisson</td>\n",
              "      <td>15 - 18</td>\n",
              "      <td>3.0</td>\n",
              "      <td>1.0</td>\n",
              "      <td>5.0</td>\n",
              "      <td>Cloud</td>\n",
              "    </tr>\n",
              "    <tr>\n",
              "      <th>143</th>\n",
              "      <td>22/08/2024 16:48:04</td>\n",
              "      <td>1</td>\n",
              "      <td>1</td>\n",
              "      <td>1</td>\n",
              "      <td>1</td>\n",
              "      <td>1</td>\n",
              "      <td>1</td>\n",
              "      <td>4</td>\n",
              "      <td>1</td>\n",
              "      <td>Alisson</td>\n",
              "      <td>51 - 80</td>\n",
              "      <td>4.0</td>\n",
              "      <td>4.0</td>\n",
              "      <td>1.0</td>\n",
              "      <td>Informática</td>\n",
              "    </tr>\n",
              "    <tr>\n",
              "      <th>144</th>\n",
              "      <td>22/08/2024 16:51:25</td>\n",
              "      <td>4</td>\n",
              "      <td>3</td>\n",
              "      <td>1</td>\n",
              "      <td>1</td>\n",
              "      <td>4</td>\n",
              "      <td>3</td>\n",
              "      <td>4</td>\n",
              "      <td>4</td>\n",
              "      <td>Charlerson</td>\n",
              "      <td>15 - 18</td>\n",
              "      <td>3.0</td>\n",
              "      <td>3.0</td>\n",
              "      <td>3.0</td>\n",
              "      <td>Programa</td>\n",
              "    </tr>\n",
              "    <tr>\n",
              "      <th>145</th>\n",
              "      <td>22/08/2024 16:52:02</td>\n",
              "      <td>4</td>\n",
              "      <td>3</td>\n",
              "      <td>4</td>\n",
              "      <td>3</td>\n",
              "      <td>1</td>\n",
              "      <td>2</td>\n",
              "      <td>1</td>\n",
              "      <td>4</td>\n",
              "      <td>Charlerson</td>\n",
              "      <td>15 - 18</td>\n",
              "      <td>2.0</td>\n",
              "      <td>3.0</td>\n",
              "      <td>4.0</td>\n",
              "      <td>Programação</td>\n",
              "    </tr>\n",
              "    <tr>\n",
              "      <th>146</th>\n",
              "      <td>22/08/2024 17:00:29</td>\n",
              "      <td>4</td>\n",
              "      <td>3</td>\n",
              "      <td>4</td>\n",
              "      <td>2</td>\n",
              "      <td>2</td>\n",
              "      <td>3</td>\n",
              "      <td>5</td>\n",
              "      <td>5</td>\n",
              "      <td>Charlerson</td>\n",
              "      <td>15 - 18</td>\n",
              "      <td>4.0</td>\n",
              "      <td>3.0</td>\n",
              "      <td>4.0</td>\n",
              "      <td>Redes</td>\n",
              "    </tr>\n",
              "  </tbody>\n",
              "</table>\n",
              "<p>147 rows × 15 columns</p>\n",
              "</div>"
            ],
            "text/plain": [
              "               data_hora  rock  rap  mpb  reggae  funk  sertanejo  gospel  \\\n",
              "0    21/08/2024 10:03:25     3    1    1       1     1          1       1   \n",
              "1    21/08/2024 10:04:39     5    3    5       2     1          3       1   \n",
              "2    21/08/2024 10:04:52     1    5    1       1     1          1       1   \n",
              "3    21/08/2024 10:04:53     1    5    4       4     4          1       1   \n",
              "4    21/08/2024 10:04:55     5    4    3       4     1          1       2   \n",
              "..                   ...   ...  ...  ...     ...   ...        ...     ...   \n",
              "142  22/08/2024 16:47:00     3    1    2       2     1          4       3   \n",
              "143  22/08/2024 16:48:04     1    1    1       1     1          1       4   \n",
              "144  22/08/2024 16:51:25     4    3    1       1     4          3       4   \n",
              "145  22/08/2024 16:52:02     4    3    4       3     1          2       1   \n",
              "146  22/08/2024 17:00:29     4    3    4       2     2          3       5   \n",
              "\n",
              "     eletronica   professor faixa_etaria  samba  forro  trap palavra_chave  \n",
              "0             3         NaN          NaN    NaN    NaN   NaN           NaN  \n",
              "1             5         NaN          NaN    NaN    NaN   NaN           NaN  \n",
              "2             5         NaN          NaN    NaN    NaN   NaN           NaN  \n",
              "3             5         NaN          NaN    NaN    NaN   NaN           NaN  \n",
              "4             5         NaN          NaN    NaN    NaN   NaN           NaN  \n",
              "..          ...         ...          ...    ...    ...   ...           ...  \n",
              "142           4     Alisson      15 - 18    3.0    1.0   5.0         Cloud  \n",
              "143           1     Alisson      51 - 80    4.0    4.0   1.0  Informática   \n",
              "144           4  Charlerson      15 - 18    3.0    3.0   3.0      Programa  \n",
              "145           4  Charlerson      15 - 18    2.0    3.0   4.0  Programação   \n",
              "146           5  Charlerson      15 - 18    4.0    3.0   4.0         Redes  \n",
              "\n",
              "[147 rows x 15 columns]"
            ]
          },
          "execution_count": 65,
          "metadata": {},
          "output_type": "execute_result"
        }
      ],
      "source": [
        "df"
      ]
    },
    {
      "cell_type": "markdown",
      "metadata": {
        "id": "pD7FSEg2YBYI"
      },
      "source": [
        "### Criando um novo Dataframe para apresentar somente os estilos com as avaliações gerais dos alunos"
      ]
    },
    {
      "cell_type": "code",
      "execution_count": 66,
      "metadata": {
        "id": "G90snFCW3isd"
      },
      "outputs": [],
      "source": [
        "df_estilos = df[['rock', 'rap', 'mpb', 'reggae', 'funk', 'sertanejo', 'gospel', 'eletronica','samba', 'trap', 'forro']]"
      ]
    },
    {
      "cell_type": "markdown",
      "metadata": {
        "id": "JR-K-HZkYn2M"
      },
      "source": [
        "### Mostrando o Dataframe com os estilos"
      ]
    },
    {
      "cell_type": "code",
      "execution_count": 67,
      "metadata": {
        "colab": {
          "base_uri": "https://localhost:8080/",
          "height": 423
        },
        "id": "rlIznQil3mw2",
        "outputId": "17f77ca0-8d64-4bcd-c5b0-7acd7b0fddcc"
      },
      "outputs": [
        {
          "data": {
            "text/html": [
              "<div>\n",
              "<style scoped>\n",
              "    .dataframe tbody tr th:only-of-type {\n",
              "        vertical-align: middle;\n",
              "    }\n",
              "\n",
              "    .dataframe tbody tr th {\n",
              "        vertical-align: top;\n",
              "    }\n",
              "\n",
              "    .dataframe thead th {\n",
              "        text-align: right;\n",
              "    }\n",
              "</style>\n",
              "<table border=\"1\" class=\"dataframe\">\n",
              "  <thead>\n",
              "    <tr style=\"text-align: right;\">\n",
              "      <th></th>\n",
              "      <th>rock</th>\n",
              "      <th>rap</th>\n",
              "      <th>mpb</th>\n",
              "      <th>reggae</th>\n",
              "      <th>funk</th>\n",
              "      <th>sertanejo</th>\n",
              "      <th>gospel</th>\n",
              "      <th>eletronica</th>\n",
              "      <th>samba</th>\n",
              "      <th>trap</th>\n",
              "      <th>forro</th>\n",
              "    </tr>\n",
              "  </thead>\n",
              "  <tbody>\n",
              "    <tr>\n",
              "      <th>0</th>\n",
              "      <td>3</td>\n",
              "      <td>1</td>\n",
              "      <td>1</td>\n",
              "      <td>1</td>\n",
              "      <td>1</td>\n",
              "      <td>1</td>\n",
              "      <td>1</td>\n",
              "      <td>3</td>\n",
              "      <td>NaN</td>\n",
              "      <td>NaN</td>\n",
              "      <td>NaN</td>\n",
              "    </tr>\n",
              "    <tr>\n",
              "      <th>1</th>\n",
              "      <td>5</td>\n",
              "      <td>3</td>\n",
              "      <td>5</td>\n",
              "      <td>2</td>\n",
              "      <td>1</td>\n",
              "      <td>3</td>\n",
              "      <td>1</td>\n",
              "      <td>5</td>\n",
              "      <td>NaN</td>\n",
              "      <td>NaN</td>\n",
              "      <td>NaN</td>\n",
              "    </tr>\n",
              "    <tr>\n",
              "      <th>2</th>\n",
              "      <td>1</td>\n",
              "      <td>5</td>\n",
              "      <td>1</td>\n",
              "      <td>1</td>\n",
              "      <td>1</td>\n",
              "      <td>1</td>\n",
              "      <td>1</td>\n",
              "      <td>5</td>\n",
              "      <td>NaN</td>\n",
              "      <td>NaN</td>\n",
              "      <td>NaN</td>\n",
              "    </tr>\n",
              "    <tr>\n",
              "      <th>3</th>\n",
              "      <td>1</td>\n",
              "      <td>5</td>\n",
              "      <td>4</td>\n",
              "      <td>4</td>\n",
              "      <td>4</td>\n",
              "      <td>1</td>\n",
              "      <td>1</td>\n",
              "      <td>5</td>\n",
              "      <td>NaN</td>\n",
              "      <td>NaN</td>\n",
              "      <td>NaN</td>\n",
              "    </tr>\n",
              "    <tr>\n",
              "      <th>4</th>\n",
              "      <td>5</td>\n",
              "      <td>4</td>\n",
              "      <td>3</td>\n",
              "      <td>4</td>\n",
              "      <td>1</td>\n",
              "      <td>1</td>\n",
              "      <td>2</td>\n",
              "      <td>5</td>\n",
              "      <td>NaN</td>\n",
              "      <td>NaN</td>\n",
              "      <td>NaN</td>\n",
              "    </tr>\n",
              "    <tr>\n",
              "      <th>...</th>\n",
              "      <td>...</td>\n",
              "      <td>...</td>\n",
              "      <td>...</td>\n",
              "      <td>...</td>\n",
              "      <td>...</td>\n",
              "      <td>...</td>\n",
              "      <td>...</td>\n",
              "      <td>...</td>\n",
              "      <td>...</td>\n",
              "      <td>...</td>\n",
              "      <td>...</td>\n",
              "    </tr>\n",
              "    <tr>\n",
              "      <th>142</th>\n",
              "      <td>3</td>\n",
              "      <td>1</td>\n",
              "      <td>2</td>\n",
              "      <td>2</td>\n",
              "      <td>1</td>\n",
              "      <td>4</td>\n",
              "      <td>3</td>\n",
              "      <td>4</td>\n",
              "      <td>3.0</td>\n",
              "      <td>5.0</td>\n",
              "      <td>1.0</td>\n",
              "    </tr>\n",
              "    <tr>\n",
              "      <th>143</th>\n",
              "      <td>1</td>\n",
              "      <td>1</td>\n",
              "      <td>1</td>\n",
              "      <td>1</td>\n",
              "      <td>1</td>\n",
              "      <td>1</td>\n",
              "      <td>4</td>\n",
              "      <td>1</td>\n",
              "      <td>4.0</td>\n",
              "      <td>1.0</td>\n",
              "      <td>4.0</td>\n",
              "    </tr>\n",
              "    <tr>\n",
              "      <th>144</th>\n",
              "      <td>4</td>\n",
              "      <td>3</td>\n",
              "      <td>1</td>\n",
              "      <td>1</td>\n",
              "      <td>4</td>\n",
              "      <td>3</td>\n",
              "      <td>4</td>\n",
              "      <td>4</td>\n",
              "      <td>3.0</td>\n",
              "      <td>3.0</td>\n",
              "      <td>3.0</td>\n",
              "    </tr>\n",
              "    <tr>\n",
              "      <th>145</th>\n",
              "      <td>4</td>\n",
              "      <td>3</td>\n",
              "      <td>4</td>\n",
              "      <td>3</td>\n",
              "      <td>1</td>\n",
              "      <td>2</td>\n",
              "      <td>1</td>\n",
              "      <td>4</td>\n",
              "      <td>2.0</td>\n",
              "      <td>4.0</td>\n",
              "      <td>3.0</td>\n",
              "    </tr>\n",
              "    <tr>\n",
              "      <th>146</th>\n",
              "      <td>4</td>\n",
              "      <td>3</td>\n",
              "      <td>4</td>\n",
              "      <td>2</td>\n",
              "      <td>2</td>\n",
              "      <td>3</td>\n",
              "      <td>5</td>\n",
              "      <td>5</td>\n",
              "      <td>4.0</td>\n",
              "      <td>4.0</td>\n",
              "      <td>3.0</td>\n",
              "    </tr>\n",
              "  </tbody>\n",
              "</table>\n",
              "<p>147 rows × 11 columns</p>\n",
              "</div>"
            ],
            "text/plain": [
              "     rock  rap  mpb  reggae  funk  sertanejo  gospel  eletronica  samba  trap  \\\n",
              "0       3    1    1       1     1          1       1           3    NaN   NaN   \n",
              "1       5    3    5       2     1          3       1           5    NaN   NaN   \n",
              "2       1    5    1       1     1          1       1           5    NaN   NaN   \n",
              "3       1    5    4       4     4          1       1           5    NaN   NaN   \n",
              "4       5    4    3       4     1          1       2           5    NaN   NaN   \n",
              "..    ...  ...  ...     ...   ...        ...     ...         ...    ...   ...   \n",
              "142     3    1    2       2     1          4       3           4    3.0   5.0   \n",
              "143     1    1    1       1     1          1       4           1    4.0   1.0   \n",
              "144     4    3    1       1     4          3       4           4    3.0   3.0   \n",
              "145     4    3    4       3     1          2       1           4    2.0   4.0   \n",
              "146     4    3    4       2     2          3       5           5    4.0   4.0   \n",
              "\n",
              "     forro  \n",
              "0      NaN  \n",
              "1      NaN  \n",
              "2      NaN  \n",
              "3      NaN  \n",
              "4      NaN  \n",
              "..     ...  \n",
              "142    1.0  \n",
              "143    4.0  \n",
              "144    3.0  \n",
              "145    3.0  \n",
              "146    3.0  \n",
              "\n",
              "[147 rows x 11 columns]"
            ]
          },
          "execution_count": 67,
          "metadata": {},
          "output_type": "execute_result"
        }
      ],
      "source": [
        "df_estilos"
      ]
    },
    {
      "cell_type": "markdown",
      "metadata": {
        "id": "15ld5csgYzbG"
      },
      "source": [
        "### Informações gerais do Dataframe"
      ]
    },
    {
      "cell_type": "code",
      "execution_count": 68,
      "metadata": {
        "colab": {
          "base_uri": "https://localhost:8080/"
        },
        "id": "N0NSjKmm5mkk",
        "outputId": "3ab4f40a-9f92-479b-f490-a1694409d80e"
      },
      "outputs": [
        {
          "name": "stdout",
          "output_type": "stream",
          "text": [
            "<class 'pandas.core.frame.DataFrame'>\n",
            "RangeIndex: 147 entries, 0 to 146\n",
            "Data columns (total 15 columns):\n",
            " #   Column         Non-Null Count  Dtype  \n",
            "---  ------         --------------  -----  \n",
            " 0   data_hora      147 non-null    object \n",
            " 1   rock           147 non-null    int64  \n",
            " 2   rap            147 non-null    int64  \n",
            " 3   mpb            147 non-null    int64  \n",
            " 4   reggae         147 non-null    int64  \n",
            " 5   funk           147 non-null    int64  \n",
            " 6   sertanejo      147 non-null    int64  \n",
            " 7   gospel         147 non-null    int64  \n",
            " 8   eletronica     147 non-null    int64  \n",
            " 9   professor      109 non-null    object \n",
            " 10  faixa_etaria   109 non-null    object \n",
            " 11  samba          50 non-null     float64\n",
            " 12  forro          50 non-null     float64\n",
            " 13  trap           50 non-null     float64\n",
            " 14  palavra_chave  43 non-null     object \n",
            "dtypes: float64(3), int64(8), object(4)\n",
            "memory usage: 17.4+ KB\n"
          ]
        }
      ],
      "source": [
        "df.info()"
      ]
    },
    {
      "cell_type": "markdown",
      "metadata": {
        "id": "RotWUPrwY-su"
      },
      "source": [
        "### Informações dos valores de calculos Estatísticos"
      ]
    },
    {
      "cell_type": "code",
      "execution_count": 69,
      "metadata": {
        "colab": {
          "base_uri": "https://localhost:8080/",
          "height": 300
        },
        "id": "CPxF8VV_3uyn",
        "outputId": "420b2f5c-71fc-4c58-bd86-92fa199685b9"
      },
      "outputs": [
        {
          "data": {
            "text/html": [
              "<div>\n",
              "<style scoped>\n",
              "    .dataframe tbody tr th:only-of-type {\n",
              "        vertical-align: middle;\n",
              "    }\n",
              "\n",
              "    .dataframe tbody tr th {\n",
              "        vertical-align: top;\n",
              "    }\n",
              "\n",
              "    .dataframe thead th {\n",
              "        text-align: right;\n",
              "    }\n",
              "</style>\n",
              "<table border=\"1\" class=\"dataframe\">\n",
              "  <thead>\n",
              "    <tr style=\"text-align: right;\">\n",
              "      <th></th>\n",
              "      <th>rock</th>\n",
              "      <th>rap</th>\n",
              "      <th>mpb</th>\n",
              "      <th>reggae</th>\n",
              "      <th>funk</th>\n",
              "      <th>sertanejo</th>\n",
              "      <th>gospel</th>\n",
              "      <th>eletronica</th>\n",
              "      <th>samba</th>\n",
              "      <th>forro</th>\n",
              "      <th>trap</th>\n",
              "    </tr>\n",
              "  </thead>\n",
              "  <tbody>\n",
              "    <tr>\n",
              "      <th>count</th>\n",
              "      <td>147.000000</td>\n",
              "      <td>147.000000</td>\n",
              "      <td>147.000000</td>\n",
              "      <td>147.000000</td>\n",
              "      <td>147.000000</td>\n",
              "      <td>147.00000</td>\n",
              "      <td>147.000000</td>\n",
              "      <td>147.000000</td>\n",
              "      <td>50.000000</td>\n",
              "      <td>50.000000</td>\n",
              "      <td>50.000000</td>\n",
              "    </tr>\n",
              "    <tr>\n",
              "      <th>mean</th>\n",
              "      <td>3.251701</td>\n",
              "      <td>2.986395</td>\n",
              "      <td>3.061224</td>\n",
              "      <td>2.455782</td>\n",
              "      <td>2.462585</td>\n",
              "      <td>2.85034</td>\n",
              "      <td>2.619048</td>\n",
              "      <td>3.278912</td>\n",
              "      <td>2.680000</td>\n",
              "      <td>2.740000</td>\n",
              "      <td>3.220000</td>\n",
              "    </tr>\n",
              "    <tr>\n",
              "      <th>std</th>\n",
              "      <td>1.538740</td>\n",
              "      <td>1.503359</td>\n",
              "      <td>1.481505</td>\n",
              "      <td>1.395842</td>\n",
              "      <td>1.522759</td>\n",
              "      <td>1.45411</td>\n",
              "      <td>1.514014</td>\n",
              "      <td>1.534009</td>\n",
              "      <td>1.406109</td>\n",
              "      <td>1.306342</td>\n",
              "      <td>1.568699</td>\n",
              "    </tr>\n",
              "    <tr>\n",
              "      <th>min</th>\n",
              "      <td>1.000000</td>\n",
              "      <td>1.000000</td>\n",
              "      <td>1.000000</td>\n",
              "      <td>1.000000</td>\n",
              "      <td>1.000000</td>\n",
              "      <td>1.00000</td>\n",
              "      <td>1.000000</td>\n",
              "      <td>1.000000</td>\n",
              "      <td>1.000000</td>\n",
              "      <td>1.000000</td>\n",
              "      <td>1.000000</td>\n",
              "    </tr>\n",
              "    <tr>\n",
              "      <th>25%</th>\n",
              "      <td>2.000000</td>\n",
              "      <td>1.000000</td>\n",
              "      <td>2.000000</td>\n",
              "      <td>1.000000</td>\n",
              "      <td>1.000000</td>\n",
              "      <td>1.00000</td>\n",
              "      <td>1.000000</td>\n",
              "      <td>2.000000</td>\n",
              "      <td>1.000000</td>\n",
              "      <td>2.000000</td>\n",
              "      <td>2.000000</td>\n",
              "    </tr>\n",
              "    <tr>\n",
              "      <th>50%</th>\n",
              "      <td>4.000000</td>\n",
              "      <td>3.000000</td>\n",
              "      <td>3.000000</td>\n",
              "      <td>2.000000</td>\n",
              "      <td>2.000000</td>\n",
              "      <td>3.00000</td>\n",
              "      <td>2.000000</td>\n",
              "      <td>4.000000</td>\n",
              "      <td>3.000000</td>\n",
              "      <td>3.000000</td>\n",
              "      <td>3.000000</td>\n",
              "    </tr>\n",
              "    <tr>\n",
              "      <th>75%</th>\n",
              "      <td>5.000000</td>\n",
              "      <td>4.000000</td>\n",
              "      <td>4.000000</td>\n",
              "      <td>3.000000</td>\n",
              "      <td>4.000000</td>\n",
              "      <td>4.00000</td>\n",
              "      <td>4.000000</td>\n",
              "      <td>5.000000</td>\n",
              "      <td>4.000000</td>\n",
              "      <td>4.000000</td>\n",
              "      <td>5.000000</td>\n",
              "    </tr>\n",
              "    <tr>\n",
              "      <th>max</th>\n",
              "      <td>5.000000</td>\n",
              "      <td>5.000000</td>\n",
              "      <td>5.000000</td>\n",
              "      <td>5.000000</td>\n",
              "      <td>5.000000</td>\n",
              "      <td>5.00000</td>\n",
              "      <td>5.000000</td>\n",
              "      <td>5.000000</td>\n",
              "      <td>5.000000</td>\n",
              "      <td>5.000000</td>\n",
              "      <td>5.000000</td>\n",
              "    </tr>\n",
              "  </tbody>\n",
              "</table>\n",
              "</div>"
            ],
            "text/plain": [
              "             rock         rap         mpb      reggae        funk  sertanejo  \\\n",
              "count  147.000000  147.000000  147.000000  147.000000  147.000000  147.00000   \n",
              "mean     3.251701    2.986395    3.061224    2.455782    2.462585    2.85034   \n",
              "std      1.538740    1.503359    1.481505    1.395842    1.522759    1.45411   \n",
              "min      1.000000    1.000000    1.000000    1.000000    1.000000    1.00000   \n",
              "25%      2.000000    1.000000    2.000000    1.000000    1.000000    1.00000   \n",
              "50%      4.000000    3.000000    3.000000    2.000000    2.000000    3.00000   \n",
              "75%      5.000000    4.000000    4.000000    3.000000    4.000000    4.00000   \n",
              "max      5.000000    5.000000    5.000000    5.000000    5.000000    5.00000   \n",
              "\n",
              "           gospel  eletronica      samba      forro       trap  \n",
              "count  147.000000  147.000000  50.000000  50.000000  50.000000  \n",
              "mean     2.619048    3.278912   2.680000   2.740000   3.220000  \n",
              "std      1.514014    1.534009   1.406109   1.306342   1.568699  \n",
              "min      1.000000    1.000000   1.000000   1.000000   1.000000  \n",
              "25%      1.000000    2.000000   1.000000   2.000000   2.000000  \n",
              "50%      2.000000    4.000000   3.000000   3.000000   3.000000  \n",
              "75%      4.000000    5.000000   4.000000   4.000000   5.000000  \n",
              "max      5.000000    5.000000   5.000000   5.000000   5.000000  "
            ]
          },
          "execution_count": 69,
          "metadata": {},
          "output_type": "execute_result"
        }
      ],
      "source": [
        "df.describe()"
      ]
    },
    {
      "cell_type": "markdown",
      "metadata": {
        "id": "nY9USIXxZO44"
      },
      "source": [
        "### Criando um Dataframe com a soma das avaliações"
      ]
    },
    {
      "cell_type": "code",
      "execution_count": 70,
      "metadata": {
        "colab": {
          "base_uri": "https://localhost:8080/",
          "height": 429
        },
        "id": "xhFJvQQr30RP",
        "outputId": "b3d2e831-76a7-4ddb-c29e-f24ab581c203"
      },
      "outputs": [
        {
          "data": {
            "text/plain": [
              "rock          478.0\n",
              "rap           439.0\n",
              "mpb           450.0\n",
              "reggae        361.0\n",
              "funk          362.0\n",
              "sertanejo     419.0\n",
              "gospel        385.0\n",
              "eletronica    482.0\n",
              "samba         134.0\n",
              "trap          161.0\n",
              "forro         137.0\n",
              "dtype: float64"
            ]
          },
          "execution_count": 70,
          "metadata": {},
          "output_type": "execute_result"
        }
      ],
      "source": [
        "df_estilos_soma = df_estilos[['rock', 'rap', 'mpb', 'reggae', 'funk', 'sertanejo', 'gospel', 'eletronica','samba', 'trap', 'forro']].sum()\n",
        "df_estilos_soma"
      ]
    },
    {
      "cell_type": "markdown",
      "metadata": {
        "id": "tB4UD8u8ZhVK"
      },
      "source": [
        "### Média geral por estilo"
      ]
    },
    {
      "cell_type": "code",
      "execution_count": 71,
      "metadata": {
        "colab": {
          "base_uri": "https://localhost:8080/",
          "height": 429
        },
        "id": "3DLegSAq6CXG",
        "outputId": "3ce09d77-7a19-497d-f73e-156181020ddb"
      },
      "outputs": [
        {
          "data": {
            "text/plain": [
              "rock          3.251701\n",
              "rap           2.986395\n",
              "mpb           3.061224\n",
              "reggae        2.455782\n",
              "funk          2.462585\n",
              "sertanejo     2.850340\n",
              "gospel        2.619048\n",
              "eletronica    3.278912\n",
              "samba         2.680000\n",
              "trap          3.220000\n",
              "forro         2.740000\n",
              "dtype: float64"
            ]
          },
          "execution_count": 71,
          "metadata": {},
          "output_type": "execute_result"
        }
      ],
      "source": [
        "df_estilos.mean()"
      ]
    },
    {
      "cell_type": "markdown",
      "metadata": {
        "id": "TRJqjGmNZ5Us"
      },
      "source": [
        "### Para definição de qualidade como produto usamos a mediana"
      ]
    },
    {
      "cell_type": "code",
      "execution_count": 72,
      "metadata": {
        "colab": {
          "base_uri": "https://localhost:8080/",
          "height": 429
        },
        "id": "_r68rS_U6WPI",
        "outputId": "d43fd8d4-b68d-4ccb-adaa-cf35598e6582"
      },
      "outputs": [
        {
          "data": {
            "text/plain": [
              "rock          4.0\n",
              "rap           3.0\n",
              "mpb           3.0\n",
              "reggae        2.0\n",
              "funk          2.0\n",
              "sertanejo     3.0\n",
              "gospel        2.0\n",
              "eletronica    4.0\n",
              "samba         3.0\n",
              "trap          3.0\n",
              "forro         3.0\n",
              "dtype: float64"
            ]
          },
          "execution_count": 72,
          "metadata": {},
          "output_type": "execute_result"
        }
      ],
      "source": [
        "df_estilos.median()"
      ]
    },
    {
      "cell_type": "markdown",
      "metadata": {
        "id": "om9TBm5iaNM_"
      },
      "source": [
        "### Codificação para apresentar um gráfico de barras horizontais de todos os registros"
      ]
    },
    {
      "cell_type": "code",
      "execution_count": 73,
      "metadata": {
        "colab": {
          "base_uri": "https://localhost:8080/",
          "height": 579
        },
        "id": "x3GVt0qG36wg",
        "outputId": "f57a390f-ed0e-40f9-eb9e-54a102743f28"
      },
      "outputs": [
        {
          "data": {
            "image/png": "[encoded data removed]",
            "text/plain": [
              "<Figure size 1000x600 with 1 Axes>"
            ]
          },
          "metadata": {},
          "output_type": "display_data"
        }
      ],
      "source": [
        "df_estilos_soma.plot(kind='barh', figsize=(10, 6))\n",
        "plt.title('Gráfico de Barras Horizontais')\n",
        "plt.xlabel('Quantidade')\n",
        "plt.ylabel('Estilos Musicais')\n",
        "plt.xticks(rotation=45)  # Rotaciona os nomes das categorias para melhor leitura\n",
        "plt.show()"
      ]
    },
    {
      "cell_type": "markdown",
      "metadata": {
        "id": "zltzxwjmagIw"
      },
      "source": [
        "### Podemos dizer que considerando todos os alunos que realizaram a pesquisa, houve desvantagem para alguns estilos, por não estarem presentes no primeiro dia 21/08, são eles: forró, trap e samba."
      ]
    },
    {
      "cell_type": "markdown",
      "metadata": {
        "id": "3vP4KXWEbfj_"
      },
      "source": [
        "### Mostrando os valores únicos da coluna professor"
      ]
    },
    {
      "cell_type": "code",
      "execution_count": 74,
      "metadata": {
        "colab": {
          "base_uri": "https://localhost:8080/"
        },
        "id": "KndeRT2hD-0m",
        "outputId": "78f4d900-f48c-47c1-de1a-ecb03df0fd7b"
      },
      "outputs": [
        {
          "data": {
            "text/plain": [
              "array([nan, 'Karython', 'Luciano', 'Victor', 'Charlerson', 'Damarcones',\n",
              "       'Mirka', 'Alisson'], dtype=object)"
            ]
          },
          "execution_count": 74,
          "metadata": {},
          "output_type": "execute_result"
        }
      ],
      "source": [
        "df['professor'].unique()"
      ]
    },
    {
      "cell_type": "markdown",
      "metadata": {
        "id": "OVzXLGzQbrWf"
      },
      "source": [
        "### Criação da variável para ver os estilos votados pela turma de um professor em específico"
      ]
    },
    {
      "cell_type": "code",
      "execution_count": 75,
      "metadata": {
        "id": "h3iqyNzJDlIc"
      },
      "outputs": [],
      "source": [
        "grupo_professor = df.groupby('professor')[['rock', 'rap', 'mpb', 'reggae', 'funk', 'sertanejo', 'gospel', 'eletronica', 'samba', 'trap', 'forro']]"
      ]
    },
    {
      "cell_type": "code",
      "execution_count": 76,
      "metadata": {
        "colab": {
          "base_uri": "https://localhost:8080/"
        },
        "id": "6XyJXNZE7Xzv",
        "outputId": "2f073e5d-85c4-4a3c-ba34-1a017385ea74"
      },
      "outputs": [
        {
          "name": "stdout",
          "output_type": "stream",
          "text": [
            "     rock  rap  mpb  reggae  funk  sertanejo  gospel  eletronica  samba  trap  \\\n",
            "97      1    1    1       1     4          4       1           4    4.0   4.0   \n",
            "101     2    1    4       1     4          1       1           2    1.0   2.0   \n",
            "102     4    2    4       2     1          1       1           1    3.0   1.0   \n",
            "103     3    5    2       1     4          2       3           3    1.0   3.0   \n",
            "105     2    3    2       3     3          5       4           5    4.0   4.0   \n",
            "106     4    3    1       3     2          4       4           3    3.0   4.0   \n",
            "112     1    4    2       1     5          4       1           1    4.0   4.0   \n",
            "138     5    3    2       2     1          3       2           2    2.0   1.0   \n",
            "140     1    2    1       1     1          1       1           1    1.0   5.0   \n",
            "141     4    2    2       1     1          1       1           3    1.0   1.0   \n",
            "144     4    3    1       1     4          3       4           4    3.0   3.0   \n",
            "145     4    3    4       3     1          2       1           4    2.0   4.0   \n",
            "146     4    3    4       2     2          3       5           5    4.0   4.0   \n",
            "\n",
            "     forro  \n",
            "97     4.0  \n",
            "101    2.0  \n",
            "102    2.0  \n",
            "103    3.0  \n",
            "105    3.0  \n",
            "106    3.0  \n",
            "112    1.0  \n",
            "138    3.0  \n",
            "140    1.0  \n",
            "141    2.0  \n",
            "144    3.0  \n",
            "145    3.0  \n",
            "146    3.0  \n"
          ]
        }
      ],
      "source": [
        "professor_charlerson = grupo_professor.get_group('Charlerson')\n",
        "print(professor_charlerson)"
      ]
    },
    {
      "cell_type": "markdown",
      "metadata": {
        "id": "SQpaHP5G0Dn9"
      },
      "source": [
        "### Usando a variável criada com o professor específico para apresentar um Dataframe com a avaliação da turma"
      ]
    },
    {
      "cell_type": "code",
      "execution_count": 77,
      "metadata": {
        "id": "_kZZru6zEpsD"
      },
      "outputs": [],
      "source": [
        "df_charlerson = professor_charlerson[['rock', 'rap', 'mpb', 'reggae', 'funk', 'sertanejo', 'gospel', 'eletronica', 'samba', 'trap', 'forro']]"
      ]
    },
    {
      "cell_type": "code",
      "execution_count": 78,
      "metadata": {
        "colab": {
          "base_uri": "https://localhost:8080/",
          "height": 551
        },
        "id": "TmYaLG5f72V5",
        "outputId": "481bf45a-ec80-49ba-ab35-93a650e0d915"
      },
      "outputs": [
        {
          "data": {
            "text/html": [
              "<div>\n",
              "<style scoped>\n",
              "    .dataframe tbody tr th:only-of-type {\n",
              "        vertical-align: middle;\n",
              "    }\n",
              "\n",
              "    .dataframe tbody tr th {\n",
              "        vertical-align: top;\n",
              "    }\n",
              "\n",
              "    .dataframe thead th {\n",
              "        text-align: right;\n",
              "    }\n",
              "</style>\n",
              "<table border=\"1\" class=\"dataframe\">\n",
              "  <thead>\n",
              "    <tr style=\"text-align: right;\">\n",
              "      <th></th>\n",
              "      <th>rock</th>\n",
              "      <th>rap</th>\n",
              "      <th>mpb</th>\n",
              "      <th>reggae</th>\n",
              "      <th>funk</th>\n",
              "      <th>sertanejo</th>\n",
              "      <th>gospel</th>\n",
              "      <th>eletronica</th>\n",
              "      <th>samba</th>\n",
              "      <th>trap</th>\n",
              "      <th>forro</th>\n",
              "    </tr>\n",
              "  </thead>\n",
              "  <tbody>\n",
              "    <tr>\n",
              "      <th>97</th>\n",
              "      <td>1</td>\n",
              "      <td>1</td>\n",
              "      <td>1</td>\n",
              "      <td>1</td>\n",
              "      <td>4</td>\n",
              "      <td>4</td>\n",
              "      <td>1</td>\n",
              "      <td>4</td>\n",
              "      <td>4.0</td>\n",
              "      <td>4.0</td>\n",
              "      <td>4.0</td>\n",
              "    </tr>\n",
              "    <tr>\n",
              "      <th>101</th>\n",
              "      <td>2</td>\n",
              "      <td>1</td>\n",
              "      <td>4</td>\n",
              "      <td>1</td>\n",
              "      <td>4</td>\n",
              "      <td>1</td>\n",
              "      <td>1</td>\n",
              "      <td>2</td>\n",
              "      <td>1.0</td>\n",
              "      <td>2.0</td>\n",
              "      <td>2.0</td>\n",
              "    </tr>\n",
              "    <tr>\n",
              "      <th>102</th>\n",
              "      <td>4</td>\n",
              "      <td>2</td>\n",
              "      <td>4</td>\n",
              "      <td>2</td>\n",
              "      <td>1</td>\n",
              "      <td>1</td>\n",
              "      <td>1</td>\n",
              "      <td>1</td>\n",
              "      <td>3.0</td>\n",
              "      <td>1.0</td>\n",
              "      <td>2.0</td>\n",
              "    </tr>\n",
              "    <tr>\n",
              "      <th>103</th>\n",
              "      <td>3</td>\n",
              "      <td>5</td>\n",
              "      <td>2</td>\n",
              "      <td>1</td>\n",
              "      <td>4</td>\n",
              "      <td>2</td>\n",
              "      <td>3</td>\n",
              "      <td>3</td>\n",
              "      <td>1.0</td>\n",
              "      <td>3.0</td>\n",
              "      <td>3.0</td>\n",
              "    </tr>\n",
              "    <tr>\n",
              "      <th>105</th>\n",
              "      <td>2</td>\n",
              "      <td>3</td>\n",
              "      <td>2</td>\n",
              "      <td>3</td>\n",
              "      <td>3</td>\n",
              "      <td>5</td>\n",
              "      <td>4</td>\n",
              "      <td>5</td>\n",
              "      <td>4.0</td>\n",
              "      <td>4.0</td>\n",
              "      <td>3.0</td>\n",
              "    </tr>\n",
              "    <tr>\n",
              "      <th>106</th>\n",
              "      <td>4</td>\n",
              "      <td>3</td>\n",
              "      <td>1</td>\n",
              "      <td>3</td>\n",
              "      <td>2</td>\n",
              "      <td>4</td>\n",
              "      <td>4</td>\n",
              "      <td>3</td>\n",
              "      <td>3.0</td>\n",
              "      <td>4.0</td>\n",
              "      <td>3.0</td>\n",
              "    </tr>\n",
              "    <tr>\n",
              "      <th>112</th>\n",
              "      <td>1</td>\n",
              "      <td>4</td>\n",
              "      <td>2</td>\n",
              "      <td>1</td>\n",
              "      <td>5</td>\n",
              "      <td>4</td>\n",
              "      <td>1</td>\n",
              "      <td>1</td>\n",
              "      <td>4.0</td>\n",
              "      <td>4.0</td>\n",
              "      <td>1.0</td>\n",
              "    </tr>\n",
              "    <tr>\n",
              "      <th>138</th>\n",
              "      <td>5</td>\n",
              "      <td>3</td>\n",
              "      <td>2</td>\n",
              "      <td>2</td>\n",
              "      <td>1</td>\n",
              "      <td>3</td>\n",
              "      <td>2</td>\n",
              "      <td>2</td>\n",
              "      <td>2.0</td>\n",
              "      <td>1.0</td>\n",
              "      <td>3.0</td>\n",
              "    </tr>\n",
              "    <tr>\n",
              "      <th>140</th>\n",
              "      <td>1</td>\n",
              "      <td>2</td>\n",
              "      <td>1</td>\n",
              "      <td>1</td>\n",
              "      <td>1</td>\n",
              "      <td>1</td>\n",
              "      <td>1</td>\n",
              "      <td>1</td>\n",
              "      <td>1.0</td>\n",
              "      <td>5.0</td>\n",
              "      <td>1.0</td>\n",
              "    </tr>\n",
              "    <tr>\n",
              "      <th>141</th>\n",
              "      <td>4</td>\n",
              "      <td>2</td>\n",
              "      <td>2</td>\n",
              "      <td>1</td>\n",
              "      <td>1</td>\n",
              "      <td>1</td>\n",
              "      <td>1</td>\n",
              "      <td>3</td>\n",
              "      <td>1.0</td>\n",
              "      <td>1.0</td>\n",
              "      <td>2.0</td>\n",
              "    </tr>\n",
              "    <tr>\n",
              "      <th>144</th>\n",
              "      <td>4</td>\n",
              "      <td>3</td>\n",
              "      <td>1</td>\n",
              "      <td>1</td>\n",
              "      <td>4</td>\n",
              "      <td>3</td>\n",
              "      <td>4</td>\n",
              "      <td>4</td>\n",
              "      <td>3.0</td>\n",
              "      <td>3.0</td>\n",
              "      <td>3.0</td>\n",
              "    </tr>\n",
              "    <tr>\n",
              "      <th>145</th>\n",
              "      <td>4</td>\n",
              "      <td>3</td>\n",
              "      <td>4</td>\n",
              "      <td>3</td>\n",
              "      <td>1</td>\n",
              "      <td>2</td>\n",
              "      <td>1</td>\n",
              "      <td>4</td>\n",
              "      <td>2.0</td>\n",
              "      <td>4.0</td>\n",
              "      <td>3.0</td>\n",
              "    </tr>\n",
              "    <tr>\n",
              "      <th>146</th>\n",
              "      <td>4</td>\n",
              "      <td>3</td>\n",
              "      <td>4</td>\n",
              "      <td>2</td>\n",
              "      <td>2</td>\n",
              "      <td>3</td>\n",
              "      <td>5</td>\n",
              "      <td>5</td>\n",
              "      <td>4.0</td>\n",
              "      <td>4.0</td>\n",
              "      <td>3.0</td>\n",
              "    </tr>\n",
              "  </tbody>\n",
              "</table>\n",
              "</div>"
            ],
            "text/plain": [
              "     rock  rap  mpb  reggae  funk  sertanejo  gospel  eletronica  samba  trap  \\\n",
              "97      1    1    1       1     4          4       1           4    4.0   4.0   \n",
              "101     2    1    4       1     4          1       1           2    1.0   2.0   \n",
              "102     4    2    4       2     1          1       1           1    3.0   1.0   \n",
              "103     3    5    2       1     4          2       3           3    1.0   3.0   \n",
              "105     2    3    2       3     3          5       4           5    4.0   4.0   \n",
              "106     4    3    1       3     2          4       4           3    3.0   4.0   \n",
              "112     1    4    2       1     5          4       1           1    4.0   4.0   \n",
              "138     5    3    2       2     1          3       2           2    2.0   1.0   \n",
              "140     1    2    1       1     1          1       1           1    1.0   5.0   \n",
              "141     4    2    2       1     1          1       1           3    1.0   1.0   \n",
              "144     4    3    1       1     4          3       4           4    3.0   3.0   \n",
              "145     4    3    4       3     1          2       1           4    2.0   4.0   \n",
              "146     4    3    4       2     2          3       5           5    4.0   4.0   \n",
              "\n",
              "     forro  \n",
              "97     4.0  \n",
              "101    2.0  \n",
              "102    2.0  \n",
              "103    3.0  \n",
              "105    3.0  \n",
              "106    3.0  \n",
              "112    1.0  \n",
              "138    3.0  \n",
              "140    1.0  \n",
              "141    2.0  \n",
              "144    3.0  \n",
              "145    3.0  \n",
              "146    3.0  "
            ]
          },
          "execution_count": 78,
          "metadata": {},
          "output_type": "execute_result"
        }
      ],
      "source": [
        "df_charlerson"
      ]
    },
    {
      "cell_type": "code",
      "execution_count": null,
      "metadata": {
        "colab": {
          "base_uri": "https://localhost:8080/"
        },
        "id": "wlrY96CsMo93",
        "outputId": "466d3a35-3f2c-4e69-f0f4-a3aa260e6cdd"
      },
      "outputs": [
        {
          "data": {
            "text/plain": [
              "Index(['rock', 'rap', 'mpb', 'reggae', 'funk', 'sertanejo', 'gospel',\n",
              "       'eletronica', 'samba', 'trap', 'forro'],\n",
              "      dtype='object')"
            ]
          },
          "execution_count": 39,
          "metadata": {},
          "output_type": "execute_result"
        }
      ],
      "source": [
        "df_charlerson.columns"
      ]
    },
    {
      "cell_type": "markdown",
      "metadata": {
        "id": "YC4YsiYr0g1g"
      },
      "source": [
        "### Mostrando valores estatísticos por estilo da avaliação da turma"
      ]
    },
    {
      "cell_type": "code",
      "execution_count": 79,
      "metadata": {
        "colab": {
          "base_uri": "https://localhost:8080/",
          "height": 300
        },
        "id": "MUSGzsWGGu9g",
        "outputId": "6db85c88-7122-4f66-a343-eaf09dccb32f"
      },
      "outputs": [
        {
          "data": {
            "text/html": [
              "<div>\n",
              "<style scoped>\n",
              "    .dataframe tbody tr th:only-of-type {\n",
              "        vertical-align: middle;\n",
              "    }\n",
              "\n",
              "    .dataframe tbody tr th {\n",
              "        vertical-align: top;\n",
              "    }\n",
              "\n",
              "    .dataframe thead th {\n",
              "        text-align: right;\n",
              "    }\n",
              "</style>\n",
              "<table border=\"1\" class=\"dataframe\">\n",
              "  <thead>\n",
              "    <tr style=\"text-align: right;\">\n",
              "      <th></th>\n",
              "      <th>rock</th>\n",
              "      <th>rap</th>\n",
              "      <th>mpb</th>\n",
              "      <th>reggae</th>\n",
              "      <th>funk</th>\n",
              "      <th>sertanejo</th>\n",
              "      <th>gospel</th>\n",
              "      <th>eletronica</th>\n",
              "      <th>samba</th>\n",
              "      <th>trap</th>\n",
              "      <th>forro</th>\n",
              "    </tr>\n",
              "  </thead>\n",
              "  <tbody>\n",
              "    <tr>\n",
              "      <th>count</th>\n",
              "      <td>13.000000</td>\n",
              "      <td>13.000000</td>\n",
              "      <td>13.000000</td>\n",
              "      <td>13.000000</td>\n",
              "      <td>13.000000</td>\n",
              "      <td>13.000000</td>\n",
              "      <td>13.000000</td>\n",
              "      <td>13.000000</td>\n",
              "      <td>13.000000</td>\n",
              "      <td>13.000000</td>\n",
              "      <td>13.000000</td>\n",
              "    </tr>\n",
              "    <tr>\n",
              "      <th>mean</th>\n",
              "      <td>3.000000</td>\n",
              "      <td>2.692308</td>\n",
              "      <td>2.307692</td>\n",
              "      <td>1.692308</td>\n",
              "      <td>2.538462</td>\n",
              "      <td>2.615385</td>\n",
              "      <td>2.230769</td>\n",
              "      <td>2.923077</td>\n",
              "      <td>2.538462</td>\n",
              "      <td>3.076923</td>\n",
              "      <td>2.538462</td>\n",
              "    </tr>\n",
              "    <tr>\n",
              "      <th>std</th>\n",
              "      <td>1.414214</td>\n",
              "      <td>1.109400</td>\n",
              "      <td>1.250641</td>\n",
              "      <td>0.854850</td>\n",
              "      <td>1.506397</td>\n",
              "      <td>1.386750</td>\n",
              "      <td>1.535895</td>\n",
              "      <td>1.441153</td>\n",
              "      <td>1.265924</td>\n",
              "      <td>1.382120</td>\n",
              "      <td>0.877058</td>\n",
              "    </tr>\n",
              "    <tr>\n",
              "      <th>min</th>\n",
              "      <td>1.000000</td>\n",
              "      <td>1.000000</td>\n",
              "      <td>1.000000</td>\n",
              "      <td>1.000000</td>\n",
              "      <td>1.000000</td>\n",
              "      <td>1.000000</td>\n",
              "      <td>1.000000</td>\n",
              "      <td>1.000000</td>\n",
              "      <td>1.000000</td>\n",
              "      <td>1.000000</td>\n",
              "      <td>1.000000</td>\n",
              "    </tr>\n",
              "    <tr>\n",
              "      <th>25%</th>\n",
              "      <td>2.000000</td>\n",
              "      <td>2.000000</td>\n",
              "      <td>1.000000</td>\n",
              "      <td>1.000000</td>\n",
              "      <td>1.000000</td>\n",
              "      <td>1.000000</td>\n",
              "      <td>1.000000</td>\n",
              "      <td>2.000000</td>\n",
              "      <td>1.000000</td>\n",
              "      <td>2.000000</td>\n",
              "      <td>2.000000</td>\n",
              "    </tr>\n",
              "    <tr>\n",
              "      <th>50%</th>\n",
              "      <td>4.000000</td>\n",
              "      <td>3.000000</td>\n",
              "      <td>2.000000</td>\n",
              "      <td>1.000000</td>\n",
              "      <td>2.000000</td>\n",
              "      <td>3.000000</td>\n",
              "      <td>1.000000</td>\n",
              "      <td>3.000000</td>\n",
              "      <td>3.000000</td>\n",
              "      <td>4.000000</td>\n",
              "      <td>3.000000</td>\n",
              "    </tr>\n",
              "    <tr>\n",
              "      <th>75%</th>\n",
              "      <td>4.000000</td>\n",
              "      <td>3.000000</td>\n",
              "      <td>4.000000</td>\n",
              "      <td>2.000000</td>\n",
              "      <td>4.000000</td>\n",
              "      <td>4.000000</td>\n",
              "      <td>4.000000</td>\n",
              "      <td>4.000000</td>\n",
              "      <td>4.000000</td>\n",
              "      <td>4.000000</td>\n",
              "      <td>3.000000</td>\n",
              "    </tr>\n",
              "    <tr>\n",
              "      <th>max</th>\n",
              "      <td>5.000000</td>\n",
              "      <td>5.000000</td>\n",
              "      <td>4.000000</td>\n",
              "      <td>3.000000</td>\n",
              "      <td>5.000000</td>\n",
              "      <td>5.000000</td>\n",
              "      <td>5.000000</td>\n",
              "      <td>5.000000</td>\n",
              "      <td>4.000000</td>\n",
              "      <td>5.000000</td>\n",
              "      <td>4.000000</td>\n",
              "    </tr>\n",
              "  </tbody>\n",
              "</table>\n",
              "</div>"
            ],
            "text/plain": [
              "            rock        rap        mpb     reggae       funk  sertanejo  \\\n",
              "count  13.000000  13.000000  13.000000  13.000000  13.000000  13.000000   \n",
              "mean    3.000000   2.692308   2.307692   1.692308   2.538462   2.615385   \n",
              "std     1.414214   1.109400   1.250641   0.854850   1.506397   1.386750   \n",
              "min     1.000000   1.000000   1.000000   1.000000   1.000000   1.000000   \n",
              "25%     2.000000   2.000000   1.000000   1.000000   1.000000   1.000000   \n",
              "50%     4.000000   3.000000   2.000000   1.000000   2.000000   3.000000   \n",
              "75%     4.000000   3.000000   4.000000   2.000000   4.000000   4.000000   \n",
              "max     5.000000   5.000000   4.000000   3.000000   5.000000   5.000000   \n",
              "\n",
              "          gospel  eletronica      samba       trap      forro  \n",
              "count  13.000000   13.000000  13.000000  13.000000  13.000000  \n",
              "mean    2.230769    2.923077   2.538462   3.076923   2.538462  \n",
              "std     1.535895    1.441153   1.265924   1.382120   0.877058  \n",
              "min     1.000000    1.000000   1.000000   1.000000   1.000000  \n",
              "25%     1.000000    2.000000   1.000000   2.000000   2.000000  \n",
              "50%     1.000000    3.000000   3.000000   4.000000   3.000000  \n",
              "75%     4.000000    4.000000   4.000000   4.000000   3.000000  \n",
              "max     5.000000    5.000000   4.000000   5.000000   4.000000  "
            ]
          },
          "execution_count": 79,
          "metadata": {},
          "output_type": "execute_result"
        }
      ],
      "source": [
        "df_charlerson.describe()"
      ]
    },
    {
      "cell_type": "markdown",
      "metadata": {
        "id": "_TIFeffX0s3w"
      },
      "source": [
        "### Informações gerais por estilo musical da turma"
      ]
    },
    {
      "cell_type": "code",
      "execution_count": 80,
      "metadata": {
        "colab": {
          "base_uri": "https://localhost:8080/"
        },
        "id": "eUE5W4LuG1R4",
        "outputId": "3f1104ff-e023-4805-978a-5e636414c5d8"
      },
      "outputs": [
        {
          "name": "stdout",
          "output_type": "stream",
          "text": [
            "<class 'pandas.core.frame.DataFrame'>\n",
            "Index: 13 entries, 97 to 146\n",
            "Data columns (total 11 columns):\n",
            " #   Column      Non-Null Count  Dtype  \n",
            "---  ------      --------------  -----  \n",
            " 0   rock        13 non-null     int64  \n",
            " 1   rap         13 non-null     int64  \n",
            " 2   mpb         13 non-null     int64  \n",
            " 3   reggae      13 non-null     int64  \n",
            " 4   funk        13 non-null     int64  \n",
            " 5   sertanejo   13 non-null     int64  \n",
            " 6   gospel      13 non-null     int64  \n",
            " 7   eletronica  13 non-null     int64  \n",
            " 8   samba       13 non-null     float64\n",
            " 9   trap        13 non-null     float64\n",
            " 10  forro       13 non-null     float64\n",
            "dtypes: float64(3), int64(8)\n",
            "memory usage: 1.2 KB\n"
          ]
        }
      ],
      "source": [
        "df_charlerson.info()"
      ]
    },
    {
      "cell_type": "markdown",
      "metadata": {
        "id": "-gRYoRw91Czb"
      },
      "source": [
        "### 5 primeiros registros da turma"
      ]
    },
    {
      "cell_type": "code",
      "execution_count": 81,
      "metadata": {
        "colab": {
          "base_uri": "https://localhost:8080/",
          "height": 206
        },
        "id": "hTqnX2PBG845",
        "outputId": "bbd370a5-0caa-4a0a-c33a-f176d546f80f"
      },
      "outputs": [
        {
          "data": {
            "text/html": [
              "<div>\n",
              "<style scoped>\n",
              "    .dataframe tbody tr th:only-of-type {\n",
              "        vertical-align: middle;\n",
              "    }\n",
              "\n",
              "    .dataframe tbody tr th {\n",
              "        vertical-align: top;\n",
              "    }\n",
              "\n",
              "    .dataframe thead th {\n",
              "        text-align: right;\n",
              "    }\n",
              "</style>\n",
              "<table border=\"1\" class=\"dataframe\">\n",
              "  <thead>\n",
              "    <tr style=\"text-align: right;\">\n",
              "      <th></th>\n",
              "      <th>rock</th>\n",
              "      <th>rap</th>\n",
              "      <th>mpb</th>\n",
              "      <th>reggae</th>\n",
              "      <th>funk</th>\n",
              "      <th>sertanejo</th>\n",
              "      <th>gospel</th>\n",
              "      <th>eletronica</th>\n",
              "      <th>samba</th>\n",
              "      <th>trap</th>\n",
              "      <th>forro</th>\n",
              "    </tr>\n",
              "  </thead>\n",
              "  <tbody>\n",
              "    <tr>\n",
              "      <th>97</th>\n",
              "      <td>1</td>\n",
              "      <td>1</td>\n",
              "      <td>1</td>\n",
              "      <td>1</td>\n",
              "      <td>4</td>\n",
              "      <td>4</td>\n",
              "      <td>1</td>\n",
              "      <td>4</td>\n",
              "      <td>4.0</td>\n",
              "      <td>4.0</td>\n",
              "      <td>4.0</td>\n",
              "    </tr>\n",
              "    <tr>\n",
              "      <th>101</th>\n",
              "      <td>2</td>\n",
              "      <td>1</td>\n",
              "      <td>4</td>\n",
              "      <td>1</td>\n",
              "      <td>4</td>\n",
              "      <td>1</td>\n",
              "      <td>1</td>\n",
              "      <td>2</td>\n",
              "      <td>1.0</td>\n",
              "      <td>2.0</td>\n",
              "      <td>2.0</td>\n",
              "    </tr>\n",
              "    <tr>\n",
              "      <th>102</th>\n",
              "      <td>4</td>\n",
              "      <td>2</td>\n",
              "      <td>4</td>\n",
              "      <td>2</td>\n",
              "      <td>1</td>\n",
              "      <td>1</td>\n",
              "      <td>1</td>\n",
              "      <td>1</td>\n",
              "      <td>3.0</td>\n",
              "      <td>1.0</td>\n",
              "      <td>2.0</td>\n",
              "    </tr>\n",
              "    <tr>\n",
              "      <th>103</th>\n",
              "      <td>3</td>\n",
              "      <td>5</td>\n",
              "      <td>2</td>\n",
              "      <td>1</td>\n",
              "      <td>4</td>\n",
              "      <td>2</td>\n",
              "      <td>3</td>\n",
              "      <td>3</td>\n",
              "      <td>1.0</td>\n",
              "      <td>3.0</td>\n",
              "      <td>3.0</td>\n",
              "    </tr>\n",
              "    <tr>\n",
              "      <th>105</th>\n",
              "      <td>2</td>\n",
              "      <td>3</td>\n",
              "      <td>2</td>\n",
              "      <td>3</td>\n",
              "      <td>3</td>\n",
              "      <td>5</td>\n",
              "      <td>4</td>\n",
              "      <td>5</td>\n",
              "      <td>4.0</td>\n",
              "      <td>4.0</td>\n",
              "      <td>3.0</td>\n",
              "    </tr>\n",
              "  </tbody>\n",
              "</table>\n",
              "</div>"
            ],
            "text/plain": [
              "     rock  rap  mpb  reggae  funk  sertanejo  gospel  eletronica  samba  trap  \\\n",
              "97      1    1    1       1     4          4       1           4    4.0   4.0   \n",
              "101     2    1    4       1     4          1       1           2    1.0   2.0   \n",
              "102     4    2    4       2     1          1       1           1    3.0   1.0   \n",
              "103     3    5    2       1     4          2       3           3    1.0   3.0   \n",
              "105     2    3    2       3     3          5       4           5    4.0   4.0   \n",
              "\n",
              "     forro  \n",
              "97     4.0  \n",
              "101    2.0  \n",
              "102    2.0  \n",
              "103    3.0  \n",
              "105    3.0  "
            ]
          },
          "execution_count": 81,
          "metadata": {},
          "output_type": "execute_result"
        }
      ],
      "source": [
        "df_charlerson.head()"
      ]
    },
    {
      "cell_type": "markdown",
      "metadata": {
        "id": "S3TP3uof1KdU"
      },
      "source": [
        "### 5 últimos registros da turma"
      ]
    },
    {
      "cell_type": "code",
      "execution_count": 98,
      "metadata": {
        "colab": {
          "base_uri": "https://localhost:8080/",
          "height": 206
        },
        "id": "GExvqWcUH0qn",
        "outputId": "698e9109-a210-429e-9f45-b016201e6c9c"
      },
      "outputs": [
        {
          "data": {
            "text/html": [
              "<div>\n",
              "<style scoped>\n",
              "    .dataframe tbody tr th:only-of-type {\n",
              "        vertical-align: middle;\n",
              "    }\n",
              "\n",
              "    .dataframe tbody tr th {\n",
              "        vertical-align: top;\n",
              "    }\n",
              "\n",
              "    .dataframe thead th {\n",
              "        text-align: right;\n",
              "    }\n",
              "</style>\n",
              "<table border=\"1\" class=\"dataframe\">\n",
              "  <thead>\n",
              "    <tr style=\"text-align: right;\">\n",
              "      <th></th>\n",
              "      <th>rock</th>\n",
              "      <th>rap</th>\n",
              "      <th>mpb</th>\n",
              "      <th>reggae</th>\n",
              "      <th>funk</th>\n",
              "      <th>sertanejo</th>\n",
              "      <th>gospel</th>\n",
              "      <th>eletronica</th>\n",
              "      <th>samba</th>\n",
              "      <th>trap</th>\n",
              "      <th>forro</th>\n",
              "    </tr>\n",
              "  </thead>\n",
              "  <tbody>\n",
              "    <tr>\n",
              "      <th>140</th>\n",
              "      <td>1</td>\n",
              "      <td>2</td>\n",
              "      <td>1</td>\n",
              "      <td>1</td>\n",
              "      <td>1</td>\n",
              "      <td>1</td>\n",
              "      <td>1</td>\n",
              "      <td>1</td>\n",
              "      <td>1.0</td>\n",
              "      <td>5.0</td>\n",
              "      <td>1.0</td>\n",
              "    </tr>\n",
              "    <tr>\n",
              "      <th>141</th>\n",
              "      <td>4</td>\n",
              "      <td>2</td>\n",
              "      <td>2</td>\n",
              "      <td>1</td>\n",
              "      <td>1</td>\n",
              "      <td>1</td>\n",
              "      <td>1</td>\n",
              "      <td>3</td>\n",
              "      <td>1.0</td>\n",
              "      <td>1.0</td>\n",
              "      <td>2.0</td>\n",
              "    </tr>\n",
              "    <tr>\n",
              "      <th>144</th>\n",
              "      <td>4</td>\n",
              "      <td>3</td>\n",
              "      <td>1</td>\n",
              "      <td>1</td>\n",
              "      <td>4</td>\n",
              "      <td>3</td>\n",
              "      <td>4</td>\n",
              "      <td>4</td>\n",
              "      <td>3.0</td>\n",
              "      <td>3.0</td>\n",
              "      <td>3.0</td>\n",
              "    </tr>\n",
              "    <tr>\n",
              "      <th>145</th>\n",
              "      <td>4</td>\n",
              "      <td>3</td>\n",
              "      <td>4</td>\n",
              "      <td>3</td>\n",
              "      <td>1</td>\n",
              "      <td>2</td>\n",
              "      <td>1</td>\n",
              "      <td>4</td>\n",
              "      <td>2.0</td>\n",
              "      <td>4.0</td>\n",
              "      <td>3.0</td>\n",
              "    </tr>\n",
              "    <tr>\n",
              "      <th>146</th>\n",
              "      <td>4</td>\n",
              "      <td>3</td>\n",
              "      <td>4</td>\n",
              "      <td>2</td>\n",
              "      <td>2</td>\n",
              "      <td>3</td>\n",
              "      <td>5</td>\n",
              "      <td>5</td>\n",
              "      <td>4.0</td>\n",
              "      <td>4.0</td>\n",
              "      <td>3.0</td>\n",
              "    </tr>\n",
              "  </tbody>\n",
              "</table>\n",
              "</div>"
            ],
            "text/plain": [
              "     rock  rap  mpb  reggae  funk  sertanejo  gospel  eletronica  samba  trap  \\\n",
              "140     1    2    1       1     1          1       1           1    1.0   5.0   \n",
              "141     4    2    2       1     1          1       1           3    1.0   1.0   \n",
              "144     4    3    1       1     4          3       4           4    3.0   3.0   \n",
              "145     4    3    4       3     1          2       1           4    2.0   4.0   \n",
              "146     4    3    4       2     2          3       5           5    4.0   4.0   \n",
              "\n",
              "     forro  \n",
              "140    1.0  \n",
              "141    2.0  \n",
              "144    3.0  \n",
              "145    3.0  \n",
              "146    3.0  "
            ]
          },
          "execution_count": 98,
          "metadata": {},
          "output_type": "execute_result"
        }
      ],
      "source": [
        "df_charlerson.tail()"
      ]
    },
    {
      "cell_type": "markdown",
      "metadata": {
        "id": "FhrledxQ1Vsm"
      },
      "source": [
        "### Criação da variável para apresentar um Dataframe com a soma das avaliações por estilo"
      ]
    },
    {
      "cell_type": "code",
      "execution_count": 83,
      "metadata": {
        "id": "j_coAi8WF65L"
      },
      "outputs": [],
      "source": [
        "df_charlerson_soma = df_charlerson.sum()"
      ]
    },
    {
      "cell_type": "code",
      "execution_count": 84,
      "metadata": {
        "colab": {
          "base_uri": "https://localhost:8080/",
          "height": 429
        },
        "id": "15oLMnWM8IOE",
        "outputId": "df0fb036-da1a-4e09-fded-e7339e5a8e93"
      },
      "outputs": [
        {
          "data": {
            "text/plain": [
              "rock          39.0\n",
              "rap           35.0\n",
              "mpb           30.0\n",
              "reggae        22.0\n",
              "funk          33.0\n",
              "sertanejo     34.0\n",
              "gospel        29.0\n",
              "eletronica    38.0\n",
              "samba         33.0\n",
              "trap          40.0\n",
              "forro         33.0\n",
              "dtype: float64"
            ]
          },
          "execution_count": 84,
          "metadata": {},
          "output_type": "execute_result"
        }
      ],
      "source": [
        "df_charlerson_soma"
      ]
    },
    {
      "cell_type": "markdown",
      "metadata": {
        "id": "jJp6nxpkvYVn"
      },
      "source": [
        "### Codificação para apresentar um gráfico de barras horizontais com a avaliação da turma do Novo Ensino Médio Redes, do professor Charlerson"
      ]
    },
    {
      "cell_type": "code",
      "execution_count": 99,
      "metadata": {
        "colab": {
          "base_uri": "https://localhost:8080/",
          "height": 540
        },
        "id": "nR2sfwEKJJ54",
        "outputId": "99f1c6b4-5a6d-4574-a77e-8779872f4bb8"
      },
      "outputs": [
        {
          "data": {
            "text/plain": [
              "<Axes: >"
            ]
          },
          "execution_count": 99,
          "metadata": {},
          "output_type": "execute_result"
        },
        {
          "data": {
            "image/png": "[encoded data removed]",
            "text/plain": [
              "<Figure size 1000x600 with 1 Axes>"
            ]
          },
          "metadata": {},
          "output_type": "display_data"
        }
      ],
      "source": [
        "df_charlerson_soma.plot(kind='barh', figsize=(10, 6))"
      ]
    },
    {
      "cell_type": "markdown",
      "metadata": {
        "id": "bbPN8H_-vxeY"
      },
      "source": [
        "### Média por estilo da turma NEM Professor Charlerson"
      ]
    },
    {
      "cell_type": "code",
      "execution_count": 86,
      "metadata": {
        "colab": {
          "base_uri": "https://localhost:8080/",
          "height": 429
        },
        "id": "VmdD0uJ3_0Mc",
        "outputId": "a120de4e-b335-4e0d-ff49-d7ee4a1635bb"
      },
      "outputs": [
        {
          "data": {
            "text/plain": [
              "rock          3.000000\n",
              "rap           2.692308\n",
              "mpb           2.307692\n",
              "reggae        1.692308\n",
              "funk          2.538462\n",
              "sertanejo     2.615385\n",
              "gospel        2.230769\n",
              "eletronica    2.923077\n",
              "samba         2.538462\n",
              "trap          3.076923\n",
              "forro         2.538462\n",
              "dtype: float64"
            ]
          },
          "execution_count": 86,
          "metadata": {},
          "output_type": "execute_result"
        }
      ],
      "source": [
        "df_charlerson.mean()"
      ]
    },
    {
      "cell_type": "markdown",
      "metadata": {
        "id": "3JPhR7MDwGQw"
      },
      "source": [
        "### Mediana por estilo da turma NEM Professor Charlerson"
      ]
    },
    {
      "cell_type": "code",
      "execution_count": 90,
      "metadata": {
        "colab": {
          "base_uri": "https://localhost:8080/",
          "height": 429
        },
        "id": "L5KPP4mx_jHy",
        "outputId": "80cc7997-ff20-4385-b647-989d91197c9f"
      },
      "outputs": [],
      "source": [
        "df_charlerson_media = df_charlerson.median()"
      ]
    },
    {
      "cell_type": "markdown",
      "metadata": {
        "id": "HT_HH2JXwy7H"
      },
      "source": [
        "### Codificaçõa para um gráfico de pizza com as porcentagens das avaliações"
      ]
    },
    {
      "cell_type": "code",
      "execution_count": 97,
      "metadata": {
        "colab": {
          "base_uri": "https://localhost:8080/",
          "height": 836
        },
        "id": "URQ6_VCxQjo3",
        "outputId": "4bb2ad0a-32cb-423a-ab5f-2bf2b86c8ba6"
      },
      "outputs": [
        {
          "data": {
            "image/png": "[encoded data removed]",
            "text/plain": [
              "<Figure size 1200x1000 with 1 Axes>"
            ]
          },
          "metadata": {},
          "output_type": "display_data"
        }
      ],
      "source": [
        "colors = sns.color_palette(\"Set3\", len(df_charlerson_media))\n",
        "plt.figure(figsize=(12, 10))\n",
        "df_charlerson_media.plot(kind='pie', autopct='%1.1f%%', colors=colors)\n",
        "plt.axis('equal')\n",
        "plt.legend(loc='upper right')\n",
        "plt.ylabel('')\n",
        "plt.title('Porcentagem Média de Votos por Estilo Musical Turma MEM Professor Charlerson')\n",
        "plt.show()"
      ]
    },
    {
      "cell_type": "markdown",
      "metadata": {
        "id": "SGbzzvdExGUJ"
      },
      "source": [
        "\n",
        "### Palavras chave inseridadas pelos alunos para criação da música com o Suno IA"
      ]
    },
    {
      "cell_type": "code",
      "execution_count": 94,
      "metadata": {
        "colab": {
          "base_uri": "https://localhost:8080/"
        },
        "id": "g8KSHqmTb4GQ",
        "outputId": "a47d0ff0-6822-46f7-b258-55a0e9947f1c"
      },
      "outputs": [
        {
          "data": {
            "text/plain": [
              "array([nan, 'Sobre phiton ', 'Java', 'Cascade', 'Programação ',\n",
              "       'Programa ', 'Python', 'SpringBoot', 'Mas eu amo meu curso ',\n",
              "       'Spring Boot', 'Bernth - Farewell', 'Front', 'phyton', 'Front-End',\n",
              "       'Web', 'biblioteca', 'Front-end', 'Classe', 'conhecimento',\n",
              "       'VisualG', 'FrontEnd', 'front-end', 'Programação', 'HTML',\n",
              "       'programação', 'Front end', 'Tecnologia ', 'Execel',\n",
              "       'Operador de Computador ', 'word', 'operador', 'digitação',\n",
              "       'Cloud', 'Redes', 'Informática ', 'Programa'], dtype=object)"
            ]
          },
          "execution_count": 94,
          "metadata": {},
          "output_type": "execute_result"
        }
      ],
      "source": [
        "df['palavra_chave'].unique()"
      ]
    }
  ],
  "metadata": {
    "colab": {
      "authorship_tag": "ABX9TyMsMoczNhrNwEYIMEZ0osIR",
      "include_colab_link": true,
      "provenance": []
    },
    "kernelspec": {
      "display_name": "Python 3",
      "name": "python3"
    },
    "language_info": {
      "codemirror_mode": {
        "name": "ipython",
        "version": 3
      },
      "file_extension": ".py",
      "mimetype": "text/x-python",
      "name": "python",
      "nbconvert_exporter": "python",
      "pygments_lexer": "ipython3",
      "version": "3.12.5"
    }
  },
  "nbformat": 4,
  "nbformat_minor": 0
}
